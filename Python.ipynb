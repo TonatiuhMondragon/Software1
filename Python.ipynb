{
  "nbformat": 4,
  "nbformat_minor": 0,
  "metadata": {
    "colab": {
      "name": "Untitled0.ipynb",
      "provenance": [],
      "collapsed_sections": [],
      "authorship_tag": "ABX9TyMd+DLjc5BTnF6KNa4JJoLy",
      "include_colab_link": true
    },
    "kernelspec": {
      "name": "python3",
      "display_name": "Python 3"
    },
    "language_info": {
      "name": "python"
    }
  },
  "cells": [
    {
      "cell_type": "markdown",
      "metadata": {
        "id": "view-in-github",
        "colab_type": "text"
      },
      "source": [
        "<a href=\"https://colab.research.google.com/github/TonatiuhMondragon/Software1/blob/master/Python.ipynb\" target=\"_parent\"><img src=\"https://colab.research.google.com/assets/colab-badge.svg\" alt=\"Open In Colab\"/></a>"
      ]
    },
    {
      "cell_type": "code",
      "execution_count": 30,
      "metadata": {
        "id": "mT0clihZ-5W1",
        "colab": {
          "base_uri": "https://localhost:8080/"
        },
        "outputId": "26e3ba89-1221-45d6-faf6-86bd8f4f527d"
      },
      "outputs": [
        {
          "output_type": "stream",
          "name": "stdout",
          "text": [
            "Ingresa el tamaño de la lista tomando en cuenta los indices: 2\n",
            "Ingresa un dato a la lista: alan\n",
            "Ingresa un dato a la lista: tonatiuh\n",
            "Ya llegaste al tamaño que definiste anteriormente\n",
            "Lista con los datos almacenados correctamente  ['alan', 'tonatiuh']\n",
            "Que deceas hacer con la lista: \n",
            "1) Mostrar el tamaño de la lista\n",
            "2) Insertar un elemento al final de la lista\n",
            "3) Insertar un elemento en un indice especifico\n",
            "4) Remover un elemento de la lista por nombre del elemento\n",
            "5) Remover el ultimo elemento de la lista\n",
            "6) Eliminar un elemento de la lista por elemento \n",
            "7) Eliminar todos los elementos de la lista \n",
            "8) Eliminar la lista por completo  \n",
            "9) Iterar la lista \n",
            "9\n",
            "Iterando la lista\n",
            "alan\n",
            "tonatiuh\n",
            "Fin de la iteracion\n"
          ]
        }
      ],
      "source": [
        "ls = []\n",
        "tamaño = int(input('Ingresa el tamaño de la lista tomando en cuenta los indices: '))\n",
        "tamaño -=1\n",
        "x=0\n",
        "\n",
        "while x<=tamaño:\n",
        "  i = input('Ingresa un dato a la lista: ')\n",
        "  ls.append(i)\n",
        "  x+=1\n",
        "else:\n",
        "  print('Ya llegaste al tamaño que definiste anteriormente')\n",
        "print('Lista con los datos almacenados correctamente ', ls)\n",
        "op = int(input('''Que deceas hacer con la lista: \n",
        "1) Mostrar el tamaño de la lista\n",
        "2) Insertar un elemento al final de la lista\n",
        "3) Insertar un elemento en un indice especifico\n",
        "4) Remover un elemento de la lista por nombre del elemento\n",
        "5) Remover el ultimo elemento de la lista\n",
        "6) Eliminar un elemento de la lista por elemento \n",
        "7) Eliminar todos los elementos de la lista \n",
        "8) Eliminar la lista por completo  \n",
        "9) Iterar la lista \n",
        "'''))\n",
        "\n",
        "if op ==1:\n",
        "  print(type(ls))\n",
        "  print(ls)\n",
        "elif op ==2: \n",
        "  new = input('Ingresa otro dato en la lista: ')\n",
        "  ls.append(new)\n",
        "  print(ls)\n",
        "elif op==3:\n",
        "  n = int(input('Ingresa el indice donde quieres insertar un dato: '))\n",
        "  new = input('Ingresa el dato: ')\n",
        "  print(ls)\n",
        "elif op==4:\n",
        "  n = input('Ingresa el dato que quieres eliminar: ')\n",
        "  ls.remove(n)\n",
        "  print(ls)\n",
        "elif op==5:\n",
        "  n = input('Ingresa el ultimo elemento que quieres eliminar: ')\n",
        "  ls.pop()\n",
        "  print(ls)\n",
        "elif op==6:\n",
        "  n = int(input('Ingresa el elemento que deceas eliminar: '))\n",
        "  del ls[n]\n",
        "  print(ls)\n",
        "elif op==7:\n",
        "  opc = int(input('''Deseas eliminar todos los elementos en la lista: \n",
        "  Si = 1 \n",
        "  No = 2'''))\n",
        "  if opc == 1:\n",
        "    ls.clear()\n",
        "    print(ls)\n",
        "  else: \n",
        "    print('No eliminaste ningun dato')\n",
        "elif op==8:\n",
        "  opc = int(input(''' Deseas eliminar la lista por completo \n",
        "  SI = 1 \n",
        "  NO = 2 \n",
        "  '''))\n",
        "  if opc == 1:\n",
        "    del ls \n",
        "  else: \n",
        "    print('No eliminaste la lista')\n",
        "elif op==9:\n",
        "  print('Iterando la lista')\n",
        "  for l in ls:\n",
        "    print(l)\n",
        "  else: \n",
        "    print('Fin de la iteracion')\n",
        "  \n",
        "\n",
        "\n"
      ]
    }
  ]
}